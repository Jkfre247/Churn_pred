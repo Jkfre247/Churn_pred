{
 "cells": [
  {
   "cell_type": "code",
   "execution_count": 23,
   "id": "ec7771f8",
   "metadata": {},
   "outputs": [],
   "source": [
    "import pandas as pd\n",
    "import numpy as np\n",
    "from sklearn.model_selection import train_test_split\n",
    "from sklearn.preprocessing import StandardScaler\n",
    "from imblearn.under_sampling import RandomUnderSampler"
   ]
  },
  {
   "cell_type": "markdown",
   "id": "7adfe880",
   "metadata": {},
   "source": [
    "## Load Data and create new columns\n",
    "Two new columns are added to the DataFrame to calculate average usage and subscription lifetime value, which \n",
    "may improve prediction accuracy in further analysis."
   ]
  },
  {
   "cell_type": "code",
   "execution_count": 24,
   "id": "3961f187",
   "metadata": {},
   "outputs": [],
   "source": [
    "df =pd.read_csv(\"cleaned_data.csv\")\n",
    "df['average_usage'] = (df['download_avg'] + df['upload_avg']) / 2\n",
    "df['subscription_lifetime_value'] = df['subscription_age'] * df['bill_avg']"
   ]
  },
  {
   "cell_type": "markdown",
   "id": "e5f71e17",
   "metadata": {},
   "source": [
    "## Undersampling"
   ]
  },
  {
   "cell_type": "code",
   "execution_count": 25,
   "id": "e200bf95",
   "metadata": {},
   "outputs": [],
   "source": [
    "# Calculate which class is in higher demand in the target variable 'churn'\n",
    "churn = len(df.loc[df['churn'] == 1])\n",
    "not_churn = len(df.loc[df['churn'] == 0])\n",
    "\n",
    "# Determine the majority and minority\n",
    "if churn > not_churn:\n",
    "    majority_class = 1\n",
    "    minority_class = 0\n",
    "else:\n",
    "    majority_class = 0\n",
    "    minority_class = 1\n",
    "\n",
    "# Undersample the majority class to balance the classes\n",
    "undersample = RandomUnderSampler(sampling_strategy={majority_class: len(df.loc[df['churn'] == minority_class])})\n",
    "X = df.drop(columns=['churn'])\n",
    "y = df['churn']\n",
    "\n",
    "# Resample the feature set X and target variable y using undersampling\n",
    "X_under, y_under = undersample.fit_resample(X, y)\n"
   ]
  },
  {
   "cell_type": "markdown",
   "id": "2bc869b4",
   "metadata": {},
   "source": [
    "## Feature normalisation\n"
   ]
  },
  {
   "cell_type": "code",
   "execution_count": 26,
   "id": "6f975c7a",
   "metadata": {},
   "outputs": [],
   "source": [
    "sc=StandardScaler()\n",
    "X_sc = sc.fit_transform(X_under)\n",
    "X_scaled_df = pd.DataFrame(X_sc, columns=X_under.columns)\n"
   ]
  },
  {
   "cell_type": "markdown",
   "id": "44c5bb65",
   "metadata": {},
   "source": [
    "The code checks the correlation between the target variable and each feature column in the dataframe. If the correlation is greater than 0.2, the feature column is selected for further modeling."
   ]
  },
  {
   "cell_type": "code",
   "execution_count": 27,
   "id": "62d158fe",
   "metadata": {},
   "outputs": [
    {
     "data": {
      "text/plain": [
       "average_usage                 -0.291815\n",
       "download_avg                  -0.294083\n",
       "is_movie_package_subscriber   -0.305954\n",
       "is_tv_subscriber              -0.343414\n",
       "is_contract                   -0.488039\n",
       "remaining_contract            -0.672784\n",
       "dtype: float64"
      ]
     },
     "execution_count": 27,
     "metadata": {},
     "output_type": "execute_result"
    }
   ],
   "source": [
    "corr_matrix = X_scaled_df.corrwith(y_under)\n",
    "threshold = 0.2\n",
    "\n",
    "significant_features = corr_matrix[abs(corr_matrix) > threshold].sort_values(ascending=False)\n",
    "\n",
    "X_sel = X_scaled_df[significant_features.index]\n",
    "significant_features"
   ]
  },
  {
   "cell_type": "markdown",
   "id": "cb9644c7",
   "metadata": {},
   "source": [
    "## Machine Learning Models\n",
    "In this part, we will be using the KNN, Random Forest, Gradient Boosting, and Regression algorithms to make predictions. To ensure unbiased predictions, we will be using cross-validation.\n",
    "\n",
    "We conducted two tests for each algorith, one with all columns in the dataset and the other with only columns having correlation greater than 0.2, to compare the prediction accuracy and determine if removing the least important features improves results."
   ]
  },
  {
   "cell_type": "markdown",
   "id": "14e81326",
   "metadata": {},
   "source": [
    "## KNN"
   ]
  },
  {
   "cell_type": "code",
   "execution_count": 28,
   "id": "c7a5820c",
   "metadata": {},
   "outputs": [],
   "source": [
    "from sklearn.neighbors import KNeighborsClassifier\n",
    "from sklearn.model_selection import cross_val_predict\n",
    "from sklearn.metrics import accuracy_score, precision_score, recall_score, f1_score\n"
   ]
  },
  {
   "cell_type": "code",
   "execution_count": 29,
   "id": "01b4c21f",
   "metadata": {},
   "outputs": [],
   "source": [
    "knn = KNeighborsClassifier(n_neighbors=5)"
   ]
  },
  {
   "cell_type": "markdown",
   "id": "70d19d13",
   "metadata": {},
   "source": [
    "Columns without changes"
   ]
  },
  {
   "cell_type": "code",
   "execution_count": 30,
   "id": "382b7cc2",
   "metadata": {},
   "outputs": [
    {
     "name": "stdout",
     "output_type": "stream",
     "text": [
      "Accuracy: 0.6772603083880288\n",
      "Precision: 0.6231804988761103\n",
      "Recall: 0.8967748013692177\n",
      "F1-score: 0.7353539515360648\n"
     ]
    }
   ],
   "source": [
    "k_fold = 5\n",
    "y_pred = cross_val_predict(knn, X_sc, y_under, cv=k_fold)\n",
    "\n",
    "# Compute evaluation metrics\n",
    "accuracy = accuracy_score(y_under, y_pred)\n",
    "precision = precision_score(y_under, y_pred)\n",
    "recall = recall_score(y_under, y_pred)\n",
    "f1 = f1_score(y_under, y_pred)\n",
    "\n",
    "# Print the evaluation metrics\n",
    "print(\"Accuracy:\", accuracy)\n",
    "print(\"Precision:\", precision)\n",
    "print(\"Recall:\", recall)\n",
    "print(\"F1-score:\", f1)"
   ]
  },
  {
   "cell_type": "markdown",
   "id": "cf29e684",
   "metadata": {},
   "source": [
    "columns above 20% correlation"
   ]
  },
  {
   "cell_type": "code",
   "execution_count": 31,
   "id": "406616ab",
   "metadata": {},
   "outputs": [
    {
     "name": "stdout",
     "output_type": "stream",
     "text": [
      "Accuracy: 0.9068555098451779\n",
      "Precision: 0.9152270760552547\n",
      "Recall: 0.8967748013692177\n",
      "F1-score: 0.9059069855973606\n"
     ]
    }
   ],
   "source": [
    "y_pred = cross_val_predict(knn, X_sel, y_under, cv=k_fold)\n",
    "\n",
    "# Compute evaluation metrics\n",
    "accuracy_knn= accuracy_score(y_under, y_pred)\n",
    "precision_knn= precision_score(y_under, y_pred)\n",
    "recall_knn = recall_score(y_under, y_pred)\n",
    "f1_knn = f1_score(y_under, y_pred)\n",
    "\n",
    "# Print the evaluation metrics\n",
    "print(\"Accuracy:\", accuracy_knn)\n",
    "print(\"Precision:\", precision_knn)\n",
    "print(\"Recall:\", recall_knn )\n",
    "print(\"F1-score:\", f1_knn )"
   ]
  },
  {
   "cell_type": "code",
   "execution_count": 32,
   "id": "34d37ba1",
   "metadata": {},
   "outputs": [],
   "source": [
    "## Random Forest"
   ]
  },
  {
   "cell_type": "code",
   "execution_count": 33,
   "id": "ecb9fcfc",
   "metadata": {},
   "outputs": [],
   "source": [
    "from sklearn.ensemble import RandomForestClassifier"
   ]
  },
  {
   "cell_type": "code",
   "execution_count": 34,
   "id": "b55f0d75",
   "metadata": {},
   "outputs": [],
   "source": [
    "rfc = RandomForestClassifier(n_estimators=500, max_depth=10, random_state=42)\n"
   ]
  },
  {
   "cell_type": "markdown",
   "id": "15d652b7",
   "metadata": {},
   "source": [
    "Columns without changes"
   ]
  },
  {
   "cell_type": "code",
   "execution_count": 35,
   "id": "192f4ddb",
   "metadata": {},
   "outputs": [
    {
     "name": "stdout",
     "output_type": "stream",
     "text": [
      "Accuracy: 0.5757466319128223\n",
      "Precision: 0.5438449792772486\n",
      "Recall: 0.939547153220488\n",
      "F1-score: 0.6889183121294111\n"
     ]
    }
   ],
   "source": [
    "y_pred_rf = cross_val_predict(rfc, X_sc, y_under, cv=k_fold)\n",
    "accuracy_rf = accuracy_score(y_under, y_pred_rf)\n",
    "precision_rf = precision_score(y_under, y_pred_rf)\n",
    "recall_rf = recall_score(y_under, y_pred_rf)\n",
    "f1_rf = f1_score(y_under, y_pred_rf)\n",
    "\n",
    "print(\"Accuracy:\", accuracy_rf)\n",
    "print(\"Precision:\", precision_rf)\n",
    "print(\"Recall:\", recall_rf)\n",
    "print(\"F1-score:\", f1_rf)"
   ]
  },
  {
   "cell_type": "markdown",
   "id": "93fd726c",
   "metadata": {},
   "source": [
    "columns above 20% correlation"
   ]
  },
  {
   "cell_type": "code",
   "execution_count": 36,
   "id": "47766714",
   "metadata": {},
   "outputs": [
    {
     "name": "stdout",
     "output_type": "stream",
     "text": [
      "Accuracy: 0.9336902930000314\n",
      "Precision: 0.9368870610566277\n",
      "Recall: 0.9300317181170116\n",
      "F1-score: 0.9334468031456353\n"
     ]
    }
   ],
   "source": [
    "y_pred_rf = cross_val_predict(rfc, X_sel, y_under, cv=k_fold)\n",
    "accuracy_rf = accuracy_score(y_under, y_pred_rf)\n",
    "precision_rf = precision_score(y_under, y_pred_rf)\n",
    "recall_rf = recall_score(y_under, y_pred_rf)\n",
    "f1_rf = f1_score(y_under, y_pred_rf)\n",
    "\n",
    "print(\"Accuracy:\", accuracy_rf)\n",
    "print(\"Precision:\", precision_rf)\n",
    "print(\"Recall:\", recall_rf)\n",
    "print(\"F1-score:\", f1_rf)"
   ]
  },
  {
   "cell_type": "markdown",
   "id": "8af6eeb6",
   "metadata": {},
   "source": [
    "## Gradient Boosting"
   ]
  },
  {
   "cell_type": "code",
   "execution_count": 37,
   "id": "4012eff0",
   "metadata": {},
   "outputs": [],
   "source": [
    "from sklearn.ensemble import GradientBoostingClassifier\n"
   ]
  },
  {
   "cell_type": "code",
   "execution_count": 38,
   "id": "2e2f1ea4",
   "metadata": {},
   "outputs": [],
   "source": [
    "gbc = GradientBoostingClassifier(n_estimators=200, learning_rate=0.1, max_depth=3, random_state=42)\n"
   ]
  },
  {
   "cell_type": "markdown",
   "id": "575995e6",
   "metadata": {},
   "source": [
    "Columns without changes"
   ]
  },
  {
   "cell_type": "code",
   "execution_count": 39,
   "id": "0a783dbc",
   "metadata": {},
   "outputs": [],
   "source": [
    "y_pred_gbc = cross_val_predict(rfc, X_sc, y_under, cv=k_fold)\n",
    "accuracy_gbc = accuracy_score(y_under, y_pred_gbc)\n",
    "precision_gbc = precision_score(y_under, y_pred_gbc)\n",
    "recall_gbc = recall_score(y_under, y_pred_gbc)\n",
    "f1_gbc = f1_score(y_under, y_pred_gbc)"
   ]
  },
  {
   "cell_type": "code",
   "execution_count": 40,
   "id": "55257228",
   "metadata": {},
   "outputs": [
    {
     "name": "stdout",
     "output_type": "stream",
     "text": [
      "Accuracy: 0.5757466319128223\n",
      "Precision: 0.5438449792772486\n",
      "Recall: 0.939547153220488\n",
      "F1-score: 0.6889183121294111\n"
     ]
    }
   ],
   "source": [
    "print(\"Accuracy:\", accuracy_gbc)\n",
    "print(\"Precision:\", precision_gbc)\n",
    "print(\"Recall:\", recall_gbc)\n",
    "print(\"F1-score:\", f1_gbc)"
   ]
  },
  {
   "cell_type": "markdown",
   "id": "26a35755",
   "metadata": {},
   "source": [
    "columns above 20% correlation"
   ]
  },
  {
   "cell_type": "code",
   "execution_count": 41,
   "id": "85afd397",
   "metadata": {},
   "outputs": [],
   "source": [
    "y_pred_gbc = cross_val_predict(rfc, X_sel, y_under, cv=k_fold)\n",
    "accuracy_gbc = accuracy_score(y_under, y_pred_gbc)\n",
    "precision_gbc = precision_score(y_under, y_pred_gbc)\n",
    "recall_gbc = recall_score(y_under, y_pred_gbc)\n",
    "f1_gbc = f1_score(y_under, y_pred_gbc)"
   ]
  },
  {
   "cell_type": "code",
   "execution_count": 42,
   "id": "d5e9a0fe",
   "metadata": {},
   "outputs": [
    {
     "name": "stdout",
     "output_type": "stream",
     "text": [
      "Accuracy: 0.9336902930000314\n",
      "Precision: 0.9368870610566277\n",
      "Recall: 0.9300317181170116\n",
      "F1-score: 0.9334468031456353\n"
     ]
    }
   ],
   "source": [
    "print(\"Accuracy:\", accuracy_gbc)\n",
    "print(\"Precision:\", precision_gbc)\n",
    "print(\"Recall:\", recall_gbc)\n",
    "print(\"F1-score:\", f1_gbc)"
   ]
  },
  {
   "cell_type": "markdown",
   "id": "24debdad",
   "metadata": {},
   "source": [
    "## Linear Regression"
   ]
  },
  {
   "cell_type": "code",
   "execution_count": 43,
   "id": "3c6595d1",
   "metadata": {},
   "outputs": [
    {
     "name": "stdout",
     "output_type": "stream",
     "text": [
      "Wyniki k-krotnej walidacji krzyżowej:\n",
      "Fold 1: MSE = 0.2258585776272859\n",
      "Fold 2: MSE = 0.2029890316523035\n",
      "Fold 3: MSE = 0.08331477126627819\n",
      "Fold 4: MSE = 0.15127563498105825\n",
      "Fold 5: MSE = 0.151860443078111\n",
      "Średni MSE: 0.16305969172100737\n"
     ]
    }
   ],
   "source": [
    "from sklearn.linear_model import LinearRegression\n",
    "from sklearn.model_selection import KFold\n",
    "from sklearn.metrics import mean_squared_error\n",
    "\n",
    "# Tworzenie modelu regresji liniowej\n",
    "model = LinearRegression()\n",
    "\n",
    "# Definiowanie liczby podziałów w k-krotnej walidacji krzyżowej\n",
    "k = 5\n",
    "\n",
    "# Inicjalizacja listy do przechowywania wyników\n",
    "mse_scores = []\n",
    "\n",
    "# K-krotna walidacja krzyżowa\n",
    "kf = KFold(n_splits=k)\n",
    "for train_index, test_index in kf.split(X_sel):\n",
    "    X_train, X_test = X_sel.iloc[train_index], X_sel.iloc[test_index]\n",
    "    y_train, y_test = y_under.iloc[train_index], y_under.iloc[test_index]\n",
    "    \n",
    "    # Trenowanie modelu\n",
    "    model.fit(X_train, y_train)\n",
    "    \n",
    "    # Predykcja na danych testowych\n",
    "    y_pred = model.predict(X_test)\n",
    "    \n",
    "    # Obliczenie błędu średniokwadratowego\n",
    "    mse = mean_squared_error(y_test, y_pred)\n",
    "    mse_scores.append(mse)\n",
    "\n",
    "# Wyświetlenie wyników\n",
    "print(\"Wyniki k-krotnej walidacji krzyżowej:\")\n",
    "for i, mse in enumerate(mse_scores):\n",
    "    print(f\"Fold {i+1}: MSE = {mse}\")\n",
    "print(\"Średni MSE:\", np.mean(mse_scores))\n"
   ]
  },
  {
   "cell_type": "code",
   "execution_count": 44,
   "id": "4892da24",
   "metadata": {},
   "outputs": [
    {
     "data": {
      "image/png": "[encoded data removed]",
      "text/plain": [
       "<Figure size 1080x720 with 4 Axes>"
      ]
     },
     "metadata": {
      "needs_background": "light"
     },
     "output_type": "display_data"
    }
   ],
   "source": [
    "import matplotlib.pyplot as plt\n",
    "\n",
    "# plot comparison chart of different classifiers\n",
    "classifiers = ['GBC', 'RFC', 'KNN']\n",
    "accuracy_scores = [accuracy_gbc, accuracy_rf, accuracy_knn]\n",
    "precision_scores = [precision_gbc, precision_rf, precision_knn]\n",
    "recall_scores = [recall_gbc, recall_rf, recall_knn]\n",
    "f1_scores = [f1_gbc, f1_rf, f1_knn]\n",
    "\n",
    "fig, ax = plt.subplots(2,2, figsize=(15,10))\n",
    "plt.subplots_adjust(hspace=0.4)\n",
    "ax[0, 0].bar(classifiers, accuracy_scores, color='navy')\n",
    "ax[0, 0].set_title('Accuracy Score Comparison')\n",
    "ax[0, 0].set_ylim([0, 1.0])\n",
    "for i, v in enumerate(accuracy_scores):\n",
    "    ax[0, 0].text(i - 0.1, v + 0.01, \"{:.3f}\".format(v), fontsize=12)\n",
    "ax[0, 1].bar(classifiers, precision_scores, color='green')\n",
    "ax[0, 1].set_title('Precision Score Comparison')\n",
    "ax[0, 1].set_ylim([0, 1.0])\n",
    "for i, v in enumerate(precision_scores):\n",
    "    ax[0, 1].text(i - 0.1, v + 0.01, \"{:.3f}\".format(v), fontsize=12)\n",
    "ax[1, 0].bar(classifiers, recall_scores, color='purple')\n",
    "ax[1, 0].set_title('Recall Score Comparison')\n",
    "ax[1, 0].set_ylim([0, 1.0])\n",
    "for i, v in enumerate(recall_scores):\n",
    "    ax[1, 0].text(i - 0.1, v + 0.01, \"{:.3f}\".format(v), fontsize=12)\n",
    "ax[1, 1].bar(classifiers, f1_scores, color='orange')\n",
    "ax[1, 1].set_title('F1 Score Comparison')\n",
    "ax[1, 1].set_ylim([0, 1.0])\n",
    "for i, v in enumerate(f1_scores):\n",
    "    ax[1, 1].text(i - 0.1, v + 0.01, \"{:.3f}\".format(v), fontsize=12)\n",
    "\n",
    "plt.savefig('comparison_chart.png', dpi=300, bbox_inches='tight')\n",
    "plt.show()\n"
   ]
  },
  {
   "cell_type": "code",
   "execution_count": null,
   "id": "7db8c8d9",
   "metadata": {},
   "outputs": [],
   "source": []
  }
 ],
 "metadata": {
  "kernelspec": {
   "display_name": "Python 3 (ipykernel)",
   "language": "python",
   "name": "python3"
  },
  "language_info": {
   "codemirror_mode": {
    "name": "ipython",
    "version": 3
   },
   "file_extension": ".py",
   "mimetype": "text/x-python",
   "name": "python",
   "nbconvert_exporter": "python",
   "pygments_lexer": "ipython3",
   "version": "3.9.12"
  }
 },
 "nbformat": 4,
 "nbformat_minor": 5
}
