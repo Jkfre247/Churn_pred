{
 "cells": [
  {
   "cell_type": "code",
   "execution_count": 42,
   "id": "ec7771f8",
   "metadata": {},
   "outputs": [],
   "source": [
    "import pandas as pd\n",
    "import numpy as np\n",
    "from sklearn.model_selection import train_test_split\n",
    "from sklearn.preprocessing import StandardScaler"
   ]
  },
  {
   "cell_type": "code",
   "execution_count": 43,
   "id": "3961f187",
   "metadata": {},
   "outputs": [],
   "source": [
    "data =pd.read_csv(\"cleaned_data.csv\")\n",
    "y= data[\"churn\"]\n",
    "X= data.drop(columns=[\"churn\"])"
   ]
  },
  {
   "cell_type": "code",
   "execution_count": 44,
   "id": "52373dde",
   "metadata": {},
   "outputs": [],
   "source": [
    "sc=StandardScaler()\n",
    "X_sc = sc.fit_transform(X)"
   ]
  },
  {
   "cell_type": "code",
   "execution_count": 45,
   "id": "62d158fe",
   "metadata": {},
   "outputs": [],
   "source": [
    "X_scaled_df = pd.DataFrame(X_sc, columns=X.columns)\n",
    "\n",
    "# Obliczenie macierzy korelacji z etykietą\n",
    "corr_matrix = X_scaled_df.corrwith(y)\n",
    "\n",
    "# Wybór istotnych cech na podstawie korelacji\n",
    "threshold = 0.2  # Prog korelacji, który uznajemy za istotny\n",
    "\n",
    "significant_features = corr_matrix[abs(corr_matrix) > threshold].index\n",
    "\n",
    "X_sel = X_scaled_df[significant_features]"
   ]
  },
  {
   "cell_type": "code",
   "execution_count": 7,
   "id": "c7a5820c",
   "metadata": {},
   "outputs": [],
   "source": [
    "from sklearn.neighbors import KNeighborsClassifier\n",
    "from sklearn.model_selection import cross_val_predict\n",
    "from sklearn.metrics import accuracy_score, precision_score, recall_score, f1_score\n"
   ]
  },
  {
   "cell_type": "code",
   "execution_count": 46,
   "id": "01b4c21f",
   "metadata": {},
   "outputs": [],
   "source": [
    "knn = KNeighborsClassifier(n_neighbors=5)"
   ]
  },
  {
   "cell_type": "code",
   "execution_count": 57,
   "id": "382b7cc2",
   "metadata": {},
   "outputs": [
    {
     "name": "stdout",
     "output_type": "stream",
     "text": [
      "Accuracy: 0.7012782885677326\n",
      "Precision: 0.6783834658676193\n",
      "Recall: 0.8818476903870163\n",
      "F1-score: 0.7668490533263852\n"
     ]
    }
   ],
   "source": [
    "k_fold = 5\n",
    "y_pred = cross_val_predict(knn, X_sc, y, cv=k_fold)\n",
    "\n",
    "# Compute evaluation metrics\n",
    "accuracy = accuracy_score(y, y_pred)\n",
    "precision = precision_score(y, y_pred)\n",
    "recall = recall_score(y, y_pred)\n",
    "f1 = f1_score(y, y_pred)\n",
    "\n",
    "# Print the evaluation metrics\n",
    "print(\"Accuracy:\", accuracy)\n",
    "print(\"Precision:\", precision)\n",
    "print(\"Recall:\", recall)\n",
    "print(\"F1-score:\", f1)"
   ]
  },
  {
   "cell_type": "code",
   "execution_count": 51,
   "id": "406616ab",
   "metadata": {},
   "outputs": [
    {
     "name": "stdout",
     "output_type": "stream",
     "text": [
      "Accuracy: 0.9176136758794319\n",
      "Precision: 0.9323266360941498\n",
      "Recall: 0.9188014981273408\n",
      "F1-score: 0.9255146568744577\n"
     ]
    }
   ],
   "source": [
    "y_pred = cross_val_predict(knn, X_sel, y, cv=k_fold)\n",
    "\n",
    "# Compute evaluation metrics\n",
    "accuracy = accuracy_score(y, y_pred)\n",
    "precision = precision_score(y, y_pred)\n",
    "recall = recall_score(y, y_pred)\n",
    "f1 = f1_score(y, y_pred)\n",
    "\n",
    "# Print the evaluation metrics\n",
    "print(\"Accuracy:\", accuracy)\n",
    "print(\"Precision:\", precision)\n",
    "print(\"Recall:\", recall)\n",
    "print(\"F1-score:\", f1)"
   ]
  },
  {
   "cell_type": "code",
   "execution_count": 52,
   "id": "ecb9fcfc",
   "metadata": {},
   "outputs": [],
   "source": [
    "from sklearn.ensemble import RandomForestClassifier"
   ]
  },
  {
   "cell_type": "code",
   "execution_count": 53,
   "id": "b55f0d75",
   "metadata": {},
   "outputs": [],
   "source": [
    "rfc = RandomForestClassifier(n_estimators=100, random_state=42)\n"
   ]
  },
  {
   "cell_type": "code",
   "execution_count": 58,
   "id": "192f4ddb",
   "metadata": {},
   "outputs": [
    {
     "name": "stdout",
     "output_type": "stream",
     "text": [
      "Accuracy: 0.5891115964002058\n",
      "Precision: 0.5824572414875255\n",
      "Recall: 0.9268414481897628\n",
      "F1-score: 0.7153594141453072\n"
     ]
    }
   ],
   "source": [
    "y_pred_rf = cross_val_predict(rfc, X_sc, y, cv=k_fold)\n",
    "accuracy_rf = accuracy_score(y, y_pred_rf)\n",
    "precision_rf = precision_score(y, y_pred_rf)\n",
    "recall_rf = recall_score(y, y_pred_rf)\n",
    "f1_rf = f1_score(y, y_pred_rf)\n",
    "\n",
    "print(\"Accuracy:\", accuracy_rf)\n",
    "print(\"Precision:\", precision_rf)\n",
    "print(\"Recall:\", recall_rf)\n",
    "print(\"F1-score:\", f1_rf)"
   ]
  },
  {
   "cell_type": "code",
   "execution_count": 55,
   "id": "47766714",
   "metadata": {},
   "outputs": [
    {
     "name": "stdout",
     "output_type": "stream",
     "text": [
      "Accuracy: 0.9110900922203831\n",
      "Precision: 0.9270235980715554\n",
      "Recall: 0.9122097378277153\n",
      "F1-score: 0.9195570098162598\n"
     ]
    }
   ],
   "source": [
    "y_pred_rf = cross_val_predict(rfc, X_sel, y, cv=k_fold)\n",
    "accuracy_rf = accuracy_score(y, y_pred_rf)\n",
    "precision_rf = precision_score(y, y_pred_rf)\n",
    "recall_rf = recall_score(y, y_pred_rf)\n",
    "f1_rf = f1_score(y, y_pred_rf)\n",
    "\n",
    "print(\"Accuracy:\", accuracy_rf)\n",
    "print(\"Precision:\", precision_rf)\n",
    "print(\"Recall:\", recall_rf)\n",
    "print(\"F1-score:\", f1_rf)"
   ]
  },
  {
   "cell_type": "code",
   "execution_count": null,
   "id": "cb3c339d",
   "metadata": {},
   "outputs": [],
   "source": []
  },
  {
   "cell_type": "code",
   "execution_count": 59,
   "id": "4012eff0",
   "metadata": {},
   "outputs": [],
   "source": [
    "from sklearn.ensemble import GradientBoostingClassifier\n"
   ]
  },
  {
   "cell_type": "code",
   "execution_count": 60,
   "id": "2e2f1ea4",
   "metadata": {},
   "outputs": [],
   "source": [
    "gbc = GradientBoostingClassifier(n_estimators=100, max_depth=3, random_state=42)\n"
   ]
  },
  {
   "cell_type": "code",
   "execution_count": 62,
   "id": "0a783dbc",
   "metadata": {},
   "outputs": [],
   "source": [
    "y_pred_gbc = cross_val_predict(rfc, X_sc, y, cv=k_fold)\n",
    "accuracy_gbc = accuracy_score(y, y_pred_gbc)\n",
    "precision_gbc = precision_score(y, y_pred_gbc)\n",
    "recall_gbc = recall_score(y, y_pred_gbc)\n",
    "f1_gbc = f1_score(y, y_pred_gbc)"
   ]
  },
  {
   "cell_type": "code",
   "execution_count": 63,
   "id": "55257228",
   "metadata": {},
   "outputs": [
    {
     "name": "stdout",
     "output_type": "stream",
     "text": [
      "Accuracy: 0.5891115964002058\n",
      "Precision: 0.5824572414875255\n",
      "Recall: 0.9268414481897628\n",
      "F1-score: 0.7153594141453072\n"
     ]
    }
   ],
   "source": [
    "print(\"Accuracy:\", accuracy_gbc)\n",
    "print(\"Precision:\", precision_gbc)\n",
    "print(\"Recall:\", recall_gbc)\n",
    "print(\"F1-score:\", f1_gbc)"
   ]
  },
  {
   "cell_type": "code",
   "execution_count": null,
   "id": "a49dfd0d",
   "metadata": {},
   "outputs": [],
   "source": []
  },
  {
   "cell_type": "code",
   "execution_count": 64,
   "id": "85afd397",
   "metadata": {},
   "outputs": [],
   "source": [
    "y_pred_gbc = cross_val_predict(rfc, X_sel, y, cv=k_fold)\n",
    "accuracy_gbc = accuracy_score(y, y_pred_gbc)\n",
    "precision_gbc = precision_score(y, y_pred_gbc)\n",
    "recall_gbc = recall_score(y, y_pred_gbc)\n",
    "f1_gbc = f1_score(y, y_pred_gbc)"
   ]
  },
  {
   "cell_type": "code",
   "execution_count": 65,
   "id": "d5e9a0fe",
   "metadata": {},
   "outputs": [
    {
     "name": "stdout",
     "output_type": "stream",
     "text": [
      "Accuracy: 0.9110900922203831\n",
      "Precision: 0.9270235980715554\n",
      "Recall: 0.9122097378277153\n",
      "F1-score: 0.9195570098162598\n"
     ]
    }
   ],
   "source": [
    "print(\"Accuracy:\", accuracy_gbc)\n",
    "print(\"Precision:\", precision_gbc)\n",
    "print(\"Recall:\", recall_gbc)\n",
    "print(\"F1-score:\", f1_gbc)"
   ]
  },
  {
   "cell_type": "code",
   "execution_count": null,
   "id": "526efc62",
   "metadata": {},
   "outputs": [],
   "source": []
  },
  {
   "cell_type": "code",
   "execution_count": 66,
   "id": "3c6595d1",
   "metadata": {},
   "outputs": [
    {
     "name": "stdout",
     "output_type": "stream",
     "text": [
      "Wyniki k-krotnej walidacji krzyżowej:\n",
      "Fold 1: MSE = 0.0839982651148533\n",
      "Fold 2: MSE = 0.08766010259203015\n",
      "Fold 3: MSE = 0.11736693939597552\n",
      "Fold 4: MSE = 0.17771078264093018\n",
      "Fold 5: MSE = 0.13420504139583553\n",
      "Średni MSE: 0.12018822622792494\n"
     ]
    }
   ],
   "source": [
    "from sklearn.linear_model import LinearRegression\n",
    "from sklearn.model_selection import KFold\n",
    "from sklearn.metrics import mean_squared_error\n",
    "\n",
    "# Tworzenie modelu regresji liniowej\n",
    "model = LinearRegression()\n",
    "\n",
    "# Definiowanie liczby podziałów w k-krotnej walidacji krzyżowej\n",
    "k = 5\n",
    "\n",
    "# Inicjalizacja listy do przechowywania wyników\n",
    "mse_scores = []\n",
    "\n",
    "# K-krotna walidacja krzyżowa\n",
    "kf = KFold(n_splits=k)\n",
    "for train_index, test_index in kf.split(X_sel):\n",
    "    X_train, X_test = X_sel.iloc[train_index], X_sel.iloc[test_index]\n",
    "    y_train, y_test = y.iloc[train_index], y.iloc[test_index]\n",
    "    \n",
    "    # Trenowanie modelu\n",
    "    model.fit(X_train, y_train)\n",
    "    \n",
    "    # Predykcja na danych testowych\n",
    "    y_pred = model.predict(X_test)\n",
    "    \n",
    "    # Obliczenie błędu średniokwadratowego\n",
    "    mse = mean_squared_error(y_test, y_pred)\n",
    "    mse_scores.append(mse)\n",
    "\n",
    "# Wyświetlenie wyników\n",
    "print(\"Wyniki k-krotnej walidacji krzyżowej:\")\n",
    "for i, mse in enumerate(mse_scores):\n",
    "    print(f\"Fold {i+1}: MSE = {mse}\")\n",
    "print(\"Średni MSE:\", np.mean(mse_scores))\n"
   ]
  },
  {
   "cell_type": "code",
   "execution_count": null,
   "id": "81ca5f77",
   "metadata": {},
   "outputs": [],
   "source": [
    "Testowanie ANN"
   ]
  },
  {
   "cell_type": "code",
   "execution_count": 67,
   "id": "b4b4b44e",
   "metadata": {},
   "outputs": [],
   "source": [
    "import tensorflow\n",
    "from tensorflow import keras\n",
    "from tensorflow.keras import Sequential # used for init our ANN model\n",
    "from tensorflow.keras.layers import Dense # used for different layer structure"
   ]
  },
  {
   "cell_type": "code",
   "execution_count": 90,
   "id": "9600a94c",
   "metadata": {},
   "outputs": [],
   "source": [
    "classifier=Sequential()"
   ]
  },
  {
   "cell_type": "code",
   "execution_count": 91,
   "id": "16137288",
   "metadata": {},
   "outputs": [],
   "source": [
    "classifier.add(Dense(10,activation='relu',input_dim=5))\n",
    "classifier.add(Dense(10,activation='relu'))\n",
    "classifier.add(Dense(1,activation='sigmoid'))"
   ]
  },
  {
   "cell_type": "code",
   "execution_count": 92,
   "id": "38922a92",
   "metadata": {},
   "outputs": [
    {
     "name": "stdout",
     "output_type": "stream",
     "text": [
      "Model: \"sequential_3\"\n",
      "_________________________________________________________________\n",
      " Layer (type)                Output Shape              Param #   \n",
      "=================================================================\n",
      " dense_18 (Dense)            (None, 10)                60        \n",
      "                                                                 \n",
      " dense_19 (Dense)            (None, 10)                110       \n",
      "                                                                 \n",
      " dense_20 (Dense)            (None, 1)                 11        \n",
      "                                                                 \n",
      "=================================================================\n",
      "Total params: 181\n",
      "Trainable params: 181\n",
      "Non-trainable params: 0\n",
      "_________________________________________________________________\n"
     ]
    }
   ],
   "source": [
    "classifier.summary()"
   ]
  },
  {
   "cell_type": "code",
   "execution_count": 93,
   "id": "aa3d67c2",
   "metadata": {},
   "outputs": [],
   "source": [
    "classifier.compile(optimizer='Adam',loss='binary_crossentropy',metrics=['accuracy'])\n"
   ]
  },
  {
   "cell_type": "code",
   "execution_count": 94,
   "id": "1f43069f",
   "metadata": {},
   "outputs": [
    {
     "name": "stdout",
     "output_type": "stream",
     "text": [
      "Wyniki k-krotnej walidacji krzyżowej:\n",
      "Fold 1: Loss = 0.18271540105342865, Accuracy = 0.9365741610527039\n",
      "Fold 2: Loss = 0.14385268092155457, Accuracy = 0.9630711674690247\n",
      "Fold 3: Loss = 0.18476317822933197, Accuracy = 0.9464496970176697\n",
      "Fold 4: Loss = 0.2956911027431488, Accuracy = 0.9033941030502319\n",
      "Fold 5: Loss = 0.3450246751308441, Accuracy = 0.887049674987793\n",
      "Średnia Accuracy: 0.9273077607154846\n",
      "Średni Loss: 0.23040940761566162\n"
     ]
    }
   ],
   "source": [
    "k = 5\n",
    "\n",
    "# Inicjalizacja list do przechowywania wyników\n",
    "accuracy_scores = []\n",
    "loss_scores = []\n",
    "\n",
    "# K-krotna walidacja krzyżowa\n",
    "kf = KFold(n_splits=k)\n",
    "for train_index, test_index in kf.split(X_sel):\n",
    "    X_train, X_test = X_sel.iloc[train_index], X_sel.iloc[test_index]\n",
    "    y_train, y_test = y.iloc[train_index], y.iloc[test_index]\n",
    "\n",
    "    # Trenowanie modelu\n",
    "    history = classifier.fit(X_train, y_train, batch_size=50, epochs=100, verbose=0)\n",
    "\n",
    "    # Ocena modelu na danych testowych\n",
    "    loss, accuracy = classifier.evaluate(X_test, y_test, verbose=0)\n",
    "\n",
    "    # Zapisanie wyników\n",
    "    accuracy_scores.append(accuracy)\n",
    "    loss_scores.append(loss)\n",
    "\n",
    "# Wyświetlenie wyników\n",
    "print(\"Wyniki k-krotnej walidacji krzyżowej:\")\n",
    "for i in range(k):\n",
    "    print(f\"Fold {i+1}: Loss = {loss_scores[i]}, Accuracy = {accuracy_scores[i]}\")\n",
    "print(\"Średnia Accuracy:\", np.mean(accuracy_scores))\n",
    "print(\"Średni Loss:\", np.mean(loss_scores))"
   ]
  }
 ],
 "metadata": {
  "kernelspec": {
   "display_name": "Python 3 (ipykernel)",
   "language": "python",
   "name": "python3"
  },
  "language_info": {
   "codemirror_mode": {
    "name": "ipython",
    "version": 3
   },
   "file_extension": ".py",
   "mimetype": "text/x-python",
   "name": "python",
   "nbconvert_exporter": "python",
   "pygments_lexer": "ipython3",
   "version": "3.9.12"
  }
 },
 "nbformat": 4,
 "nbformat_minor": 5
}
