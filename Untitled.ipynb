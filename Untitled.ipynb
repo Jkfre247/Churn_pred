{
 "cells": [
  {
   "cell_type": "code",
   "execution_count": 10,
   "id": "e110ef7e",
   "metadata": {},
   "outputs": [],
   "source": [
    "import pandas as pd\n",
    "import numpy as np\n",
    "import sklearn as sk\n",
    "from sklearn.preprocessing import StandardScaler"
   ]
  },
  {
   "cell_type": "code",
   "execution_count": 17,
   "id": "fe23e057",
   "metadata": {},
   "outputs": [],
   "source": [
    "data =pd.read_csv(\"cleaned_data.csv\")\n",
    "y= data[\"churn\"]\n",
    "X= data.drop(columns=[\"churn\"])"
   ]
  },
  {
   "cell_type": "code",
   "execution_count": 18,
   "id": "f9861fa8",
   "metadata": {},
   "outputs": [],
   "source": [
    "#X_train, X_test, y_train, y_test = train_test_split(X,y,test_size=0.25, random_state=42)\n",
    "sc=StandardScaler()\n",
    "X_sc = sc.fit_transform(X)\n"
   ]
  },
  {
   "cell_type": "code",
   "execution_count": 19,
   "id": "16029667",
   "metadata": {},
   "outputs": [
    {
     "name": "stdout",
     "output_type": "stream",
     "text": [
      "Istotne cechy:\n",
      "Index(['is_tv_subscriber', 'is_movie_package_subscriber', 'remaining_contract',\n",
      "       'is_contract', 'download_avg'],\n",
      "      dtype='object')\n"
     ]
    }
   ],
   "source": []
  },
  {
   "cell_type": "code",
   "execution_count": 21,
   "id": "42645511",
   "metadata": {},
   "outputs": [
    {
     "data": {
      "text/plain": [
       "Index(['is_tv_subscriber', 'is_movie_package_subscriber', 'subscription_age',\n",
       "       'bill_avg', 'remaining_contract', 'is_contract',\n",
       "       'service_failure_count', 'download_avg', 'upload_avg',\n",
       "       'download_over_limit'],\n",
       "      dtype='object')"
      ]
     },
     "execution_count": 21,
     "metadata": {},
     "output_type": "execute_result"
    }
   ],
   "source": [
    "X_sel = X_scaled_df[significant_features]\n"
   ]
  },
  {
   "cell_type": "code",
   "execution_count": null,
   "id": "3ddaeee8",
   "metadata": {},
   "outputs": [],
   "source": []
  }
 ],
 "metadata": {
  "kernelspec": {
   "display_name": "Python 3 (ipykernel)",
   "language": "python",
   "name": "python3"
  },
  "language_info": {
   "codemirror_mode": {
    "name": "ipython",
    "version": 3
   },
   "file_extension": ".py",
   "mimetype": "text/x-python",
   "name": "python",
   "nbconvert_exporter": "python",
   "pygments_lexer": "ipython3",
   "version": "3.9.12"
  }
 },
 "nbformat": 4,
 "nbformat_minor": 5
}
